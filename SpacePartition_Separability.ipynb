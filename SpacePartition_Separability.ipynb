{
 "cells": [
  {
   "cell_type": "code",
   "execution_count": null,
   "metadata": {},
   "outputs": [],
   "source": [
    "import torch \n",
    "import matplotlib.pyplot as plt\n",
    "# plt.rcParams['svg.fonttype'] = 'none'\n",
    "# from IPython.display import set_matplotlib_formats\n",
    "# set_matplotlib_formats('svg')\n",
    "# plt.rcParams.update({\n",
    "#     \"text.usetex\": True,\n",
    "#     \"font.family\": \"Helvetica\"\n",
    "# })\n",
    "import matplotlib\n"
   ]
  },
  {
   "cell_type": "code",
   "execution_count": null,
   "metadata": {},
   "outputs": [],
   "source": [
    "# matplotlib.rcParams[\"text.usetex\"] = True\n",
    "# matplotlib.rcParams[\"font.family\"] = \"serif\"\n",
    "# matplotlib.rcParams[\"font.size\"] = \"14\"\n",
    "\n"
   ]
  },
  {
   "cell_type": "code",
   "execution_count": null,
   "metadata": {},
   "outputs": [],
   "source": [
    "L = 10                                      # Space domain\n",
    "Alpha_vect = torch.linspace(0,1,1500)       # vector of alphas\n",
    "x_vect = torch.linspace(0,L,2000)           # vector of x\n",
    "\n",
    "\n",
    "Function = 'Heaviside'                      # Alpha-parameterised step function\n",
    "Function = 'Tanh'                           # smooth alpha-parameterised step function\n",
    "# Function = 'Gauss'                        # Alpha-parameterised front function\n",
    "Function = 'Gauss_sum'                      # Double alpha-parameterised front functions\n",
    "\n",
    "\n",
    "\n",
    "\n",
    "if Function == 'Heaviside':\n",
    "    F = torch.heaviside((x_vect[:,None] - (1-Alpha_vect[None,:])*L), x_vect[-1]/x_vect[-1])\n",
    "elif Function == 'Tanh':\n",
    "    F = torch.tanh((x_vect[:,None] - (1-Alpha_vect[None,:])*L))\n",
    "elif Function == 'Gauss':\n",
    "    F = torch.exp(-(x_vect[:,None] - (1-Alpha_vect[None,:])*L)**2)\n",
    "\n",
    "elif Function == 'Gauss_sum':\n",
    "    F = torch.exp(-(x_vect[:,None] - (1-Alpha_vect[None,:])*L)**2) + torch.exp(-(x_vect[:,None] - (1-2*Alpha_vect[None,:])*L)**2) \n",
    "\n"
   ]
  },
  {
   "cell_type": "code",
   "execution_count": null,
   "metadata": {},
   "outputs": [],
   "source": [
    "\n",
    "plt.imshow(F.t(),cmap='gray')\n",
    "plt.title('Full field')\n",
    "plt.xlabel('x')\n",
    "plt.ylabel('\\alpha')\n",
    "# plt.savefig('../Results/FullField_'+Function+'.pdf', transparent=True)  \n",
    "plt.show()\n"
   ]
  },
  {
   "cell_type": "code",
   "execution_count": null,
   "metadata": {},
   "outputs": [],
   "source": [
    "U, S, V = torch.svd(F)\n",
    "\n"
   ]
  },
  {
   "cell_type": "code",
   "execution_count": null,
   "metadata": {},
   "outputs": [],
   "source": [
    "N = 15                                                  # Number of modes kept for the truncation                   \n",
    "\n",
    "F_truncated = U[:,:N]@torch.diag(S[:N])@V[:,:N].t()     # Truncated function\n"
   ]
  },
  {
   "cell_type": "code",
   "execution_count": null,
   "metadata": {},
   "outputs": [],
   "source": [
    "\n",
    "plt.imshow(F_truncated.t(),cmap='gray')\n",
    "plt.title(f'Truncated field, N={N}')\n",
    "plt.xlabel('x')\n",
    "plt.ylabel('alpha')\n",
    "# plt.savefig(f'../Results/TruncatedField_{N}_'+Function+'.pdf', transparent=True)  \n",
    "plt.show()\n",
    "\n"
   ]
  },
  {
   "cell_type": "code",
   "execution_count": null,
   "metadata": {},
   "outputs": [],
   "source": [
    "\n",
    "plt.plot(x_vect,F[:,1000],'k',label='Full, alpha = 2/3')\n",
    "plt.plot(x_vect,F_truncated[:,1000],'--',label='Truncated, alpha = 2/3')\n",
    "plt.plot(x_vect,F[:,500],'k',label='Full, alpha = 1/3')\n",
    "plt.plot(x_vect,F_truncated[:,500],'--',label='Truncated, alpha = 1/3')\n",
    "plt.legend(loc=\"upper left\")\n",
    "plt.title(f'2 slices of the field, N={N}')\n",
    "plt.xlabel('x')\n",
    "plt.ylabel('f(x,alpha)')\n",
    "# plt.savefig(f'../Results/Sliced_TruncatedField_{N}_'+Function+'.pdf', transparent=True)  \n",
    "plt.show()\n"
   ]
  },
  {
   "cell_type": "code",
   "execution_count": null,
   "metadata": {},
   "outputs": [],
   "source": [
    "\n",
    "plt.semilogy(S)\n",
    "plt.ylabel('sigma_i^2')\n",
    "plt.xlabel('Modes')\n",
    "# plt.savefig(f'../Results/SVD_Decay_'+Function+'.pdf', transparent=True)  \n",
    "plt.show()\n"
   ]
  },
  {
   "cell_type": "code",
   "execution_count": null,
   "metadata": {},
   "outputs": [],
   "source": [
    "\n",
    "from ipywidgets import interact, widgets\n",
    "import torch\n",
    "\n",
    "def interactive_plot(N,alpha):\n",
    "    \n",
    "    # Calculate the F_trunc\n",
    "    F_truncated = U[:,:N]@torch.diag(S[:N])@V[:,:N].t()\n",
    "\n",
    "    # Plot the function\n",
    "    plt.plot(x_vect,F[:,alpha])\n",
    "    plt.plot(x_vect,F_truncated[:,alpha])\n",
    "    plt.xlabel('x')\n",
    "    plt.ylabel('f(x)')\n",
    "    plt.show()\n",
    "\n",
    "# Create an interactive slider\n",
    "slider_E1 = widgets.IntSlider(value=0, min=1, max=50, step=1, description='N modes')\n",
    "slider_E2 = widgets.IntSlider(value=0, min=1, max=1499, step=1, description='alpha')\n",
    "\n",
    "\n",
    "# Connect the slider to the interactive plot function\n",
    "interactive_plot_widget = interact(interactive_plot, N=slider_E1, alpha=slider_E2)\n"
   ]
  },
  {
   "cell_type": "code",
   "execution_count": null,
   "metadata": {},
   "outputs": [],
   "source": []
  }
 ],
 "metadata": {
  "language_info": {
   "codemirror_mode": {
    "name": "ipython",
    "version": 3
   },
   "file_extension": ".py",
   "mimetype": "text/x-python",
   "name": "python",
   "nbconvert_exporter": "python",
   "pygments_lexer": "ipython3",
   "version": 3
  }
 },
 "nbformat": 4,
 "nbformat_minor": 2
}
