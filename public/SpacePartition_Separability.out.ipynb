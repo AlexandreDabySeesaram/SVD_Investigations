{
  "cells": [
    {
      "cell_type": "markdown",
      "metadata": {},
      "source": [
        "# SVD jupyter\n",
        "\n",
        "# Import libraries\n",
        "\n",
        "Start by importing pytorch & matplotlib. I could not make the latex\n",
        "interpreter work in binder, so the corresponding lines are commented\n",
        "out."
      ],
      "id": "12a09b6c-04d2-404d-bb16-913e7b9c8703"
    },
    {
      "cell_type": "code",
      "execution_count": null,
      "metadata": {},
      "outputs": [],
      "source": [
        "import torch \n",
        "import matplotlib.pyplot as plt\n",
        "# plt.rcParams['svg.fonttype'] = 'none'\n",
        "# from IPython.display import set_matplotlib_formats\n",
        "# set_matplotlib_formats('svg')\n",
        "# plt.rcParams.update({\n",
        "#     \"text.usetex\": True,\n",
        "#     \"font.family\": \"Helvetica\"\n",
        "# })\n",
        "# import matplotlib\n"
      ],
      "id": "cell-2"
    },
    {
      "cell_type": "code",
      "execution_count": null,
      "metadata": {},
      "outputs": [],
      "source": [
        "# matplotlib.rcParams[\"text.usetex\"] = True\n",
        "# matplotlib.rcParams[\"font.family\"] = \"serif\"\n",
        "# matplotlib.rcParams[\"font.size\"] = \"14\"\n",
        "\n"
      ],
      "id": "cell-3"
    },
    {
      "cell_type": "markdown",
      "metadata": {},
      "source": [
        "# Create the functions\n",
        "\n",
        "The separability proprieties of several functions are investigated. This\n",
        "code first shows the separability proprieties of different ways of\n",
        "clustering the 1D space into two regions. Two types of functions are\n",
        "used to do so: \\* A sharp step function (Heaviside), \\* A smooth one\n",
        "(Tanh).\n",
        "\n",
        "In both cases the position of the jump is parametrised by a scalar\n",
        "parameter $\\alpha$.\n",
        "\n",
        "Furhter investigations are conducted on moving front(s) with a \\* A\n",
        "gaussian function that is moving \\* Two gaussian functions moving at\n",
        "different rates"
      ],
      "id": "f8d92c1d-44c8-4ae5-9ada-3c1358591ef3"
    },
    {
      "cell_type": "code",
      "execution_count": null,
      "metadata": {},
      "outputs": [],
      "source": [
        "L = 10                                      # Space domain\n",
        "Alpha_vect = torch.linspace(0,1,1500)       # vector of alphas\n",
        "x_vect = torch.linspace(0,L,2000)           # vector of x\n",
        "\n",
        "\n",
        "Function = 'Heaviside'                      # Alpha-parameterised step function\n",
        "Function = 'Tanh'                           # smooth alpha-parameterised step function\n",
        "# Function = 'Gauss'                        # Alpha-parameterised front function\n",
        "Function = 'Gauss_sum'                      # Double alpha-parameterised front functions\n",
        "\n",
        "\n",
        "\n",
        "\n",
        "if Function == 'Heaviside':\n",
        "    F = torch.heaviside((x_vect[:,None] - (1-Alpha_vect[None,:])*L), x_vect[-1]/x_vect[-1])\n",
        "elif Function == 'Tanh':\n",
        "    F = torch.tanh((x_vect[:,None] - (1-Alpha_vect[None,:])*L))\n",
        "elif Function == 'Gauss':\n",
        "    F = torch.exp(-(x_vect[:,None] - (1-Alpha_vect[None,:])*L)**2)\n",
        "\n",
        "elif Function == 'Gauss_sum':\n",
        "    F = torch.exp(-(x_vect[:,None] - (1-Alpha_vect[None,:])*L)**2) + torch.exp(-(x_vect[:,None] - (1-2*Alpha_vect[None,:])*L)**2) \n",
        "\n"
      ],
      "id": "cell-5"
    },
    {
      "cell_type": "markdown",
      "metadata": {},
      "source": [
        "# Plot the reference function"
      ],
      "id": "166b1fc5-ef5e-457c-a80f-0a02e3421d45"
    },
    {
      "cell_type": "code",
      "execution_count": null,
      "metadata": {},
      "outputs": [],
      "source": [
        "\n",
        "plt.imshow(F.t(),cmap='gray')\n",
        "plt.title('Full field')\n",
        "plt.xlabel('x')\n",
        "plt.ylabel('\\alpha')\n",
        "# plt.savefig('../Results/FullField_'+Function+'.pdf', transparent=True)  \n",
        "plt.show()"
      ],
      "id": "cell-7"
    },
    {
      "cell_type": "markdown",
      "metadata": {},
      "source": [
        "# Compute its SVD"
      ],
      "id": "923b7702-3fa5-43ff-8f2a-df9e546bdedd"
    },
    {
      "cell_type": "code",
      "execution_count": null,
      "metadata": {},
      "outputs": [],
      "source": [
        "U, S, V = torch.svd(F)"
      ],
      "id": "cell-9"
    },
    {
      "cell_type": "markdown",
      "metadata": {},
      "source": [
        "# Compute the truncated function\n",
        "\n",
        "From the SVD, only the $N$ first modes are kept to reconstruct the\n",
        "truncated function."
      ],
      "id": "d8525dc5-41d8-4c5a-9bf5-17340378f12e"
    },
    {
      "cell_type": "code",
      "execution_count": null,
      "metadata": {},
      "outputs": [],
      "source": [
        "N = 15                                                  # Number of modes kept for the truncation                   \n",
        "\n",
        "F_truncated = U[:,:N]@torch.diag(S[:N])@V[:,:N].t()     # Truncated function\n"
      ],
      "id": "cell-11"
    },
    {
      "cell_type": "markdown",
      "metadata": {},
      "source": [
        "# Plot the truncated function"
      ],
      "id": "b94734e0-596a-447e-b29e-cac9572a9bfd"
    },
    {
      "cell_type": "code",
      "execution_count": null,
      "metadata": {},
      "outputs": [],
      "source": [
        "\n",
        "plt.imshow(F_truncated.t(),cmap='gray')\n",
        "plt.title(f'Truncated field, N={N}')\n",
        "plt.xlabel('x')\n",
        "plt.ylabel('alpha')\n",
        "# plt.savefig(f'../Results/TruncatedField_{N}_'+Function+'.pdf', transparent=True)  \n",
        "plt.show()\n",
        "\n"
      ],
      "id": "cell-13"
    },
    {
      "cell_type": "markdown",
      "metadata": {},
      "source": [
        "# Comparison\n",
        "\n",
        "The truncated function and its reference are compared for two values \\*\n",
        "$\\alpha = 1/3$ & \\* $\\alpha = 2/3$."
      ],
      "id": "6019081f-ebec-4305-897b-a9b028601c82"
    },
    {
      "cell_type": "code",
      "execution_count": null,
      "metadata": {},
      "outputs": [],
      "source": [
        "\n",
        "plt.plot(x_vect,F[:,1000],'k',label='Full, alpha = 2/3')\n",
        "plt.plot(x_vect,F_truncated[:,1000],'--',label='Truncated, alpha = 2/3')\n",
        "plt.plot(x_vect,F[:,500],'k',label='Full, alpha = 1/3')\n",
        "plt.plot(x_vect,F_truncated[:,500],'--',label='Truncated, alpha = 1/3')\n",
        "plt.legend(loc=\"upper left\")\n",
        "plt.title(f'2 slices of the field, N={N}')\n",
        "plt.xlabel('x')\n",
        "plt.ylabel('f(x,alpha)')\n",
        "# plt.savefig(f'../Results/Sliced_TruncatedField_{N}_'+Function+'.pdf', transparent=True)  \n",
        "plt.show()"
      ],
      "id": "cell-15"
    },
    {
      "cell_type": "markdown",
      "metadata": {},
      "source": [
        "# Show the decay of the singular values\n",
        "\n",
        "The decay of the singular values gives a good insight into the\n",
        "investigated function’s separability proprieties."
      ],
      "id": "a657eb17-b02e-4597-b364-b78a7f649ebd"
    },
    {
      "cell_type": "code",
      "execution_count": null,
      "metadata": {},
      "outputs": [],
      "source": [
        "\n",
        "plt.semilogy(S)\n",
        "plt.ylabel('sigma_i^2')\n",
        "plt.xlabel('Modes')\n",
        "# plt.savefig(f'../Results/SVD_Decay_'+Function+'.pdf', transparent=True)  \n",
        "plt.show()"
      ],
      "id": "cell-17"
    },
    {
      "cell_type": "markdown",
      "metadata": {},
      "source": [
        "# Interactive plot comparing the truncated function and the reference\n",
        "\n",
        "This interactive plot allows to change the number of modes in the\n",
        "truncation and the value of the parameter $\\alpha$ ."
      ],
      "id": "77d35611-5eed-44a6-9241-bae7b9f444e4"
    },
    {
      "cell_type": "code",
      "execution_count": null,
      "metadata": {},
      "outputs": [],
      "source": [
        "\n",
        "from ipywidgets import interact, widgets\n",
        "import torch\n",
        "\n",
        "def interactive_plot(N,alpha):\n",
        "    \n",
        "    # Calculate the F_trunc\n",
        "    F_truncated = U[:,:N]@torch.diag(S[:N])@V[:,:N].t()\n",
        "\n",
        "    # Plot the function\n",
        "    plt.plot(x_vect,F[:,alpha])\n",
        "    plt.plot(x_vect,F_truncated[:,alpha])\n",
        "    plt.xlabel('x')\n",
        "    plt.ylabel('f(x)')\n",
        "    plt.show()\n",
        "\n",
        "# Create an interactive slider\n",
        "slider_E1 = widgets.IntSlider(value=0, min=1, max=50, step=1, description='N modes')\n",
        "slider_E2 = widgets.IntSlider(value=0, min=1, max=1499, step=1, description='alpha')\n",
        "\n",
        "\n",
        "# Connect the slider to the interactive plot function\n",
        "interactive_plot_widget = interact(interactive_plot, N=slider_E1, alpha=slider_E2)\n"
      ],
      "id": "cell-19"
    }
  ],
  "nbformat": 4,
  "nbformat_minor": 5,
  "metadata": {
    "kernelspec": {
      "name": "python3",
      "display_name": "Python 3",
      "language": "python"
    },
    "language_info": {
      "name": "python",
      "codemirror_mode": {
        "name": "ipython",
        "version": "3"
      },
      "file_extension": ".py",
      "mimetype": "text/x-python",
      "nbconvert_exporter": "python",
      "pygments_lexer": "ipython3",
      "version": "3"
    }
  }
}